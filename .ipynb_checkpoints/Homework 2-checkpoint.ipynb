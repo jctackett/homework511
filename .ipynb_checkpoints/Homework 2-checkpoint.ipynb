{
 "cells": [
  {
   "cell_type": "markdown",
   "metadata": {},
   "source": [
    "# Problem 1.1"
   ]
  },
  {
   "cell_type": "markdown",
   "metadata": {},
   "source": [
    "a) The start state for $M_1$ and $M_2$ is $q_1$\n",
    "b) For $M_1$, the accept state is $q_2$; for $M_2$, the accept states are both $q_1$ and $q_4$\n",
    "c) The sequence is as follows: $q_1 -> q_2 -> q_3 -> q_1 -> q_1$ for $M_1$; for $M_2$, the sequence is $q_1 -> q_1 -> q_1 -> q_2 > q_4$\n",
    "d) $M_1$ does not accept the string, $M_2$ does\n",
    "e) Neither machine accepts $\\epsilon$ "
   ]
  },
  {
   "cell_type": "code",
   "execution_count": null,
   "metadata": {},
   "outputs": [],
   "source": []
  }
 ],
 "metadata": {
  "kernelspec": {
   "display_name": "Julia 1.5.3",
   "language": "julia",
   "name": "julia-1.5"
  },
  "language_info": {
   "file_extension": ".jl",
   "mimetype": "application/julia",
   "name": "julia",
   "version": "1.5.3"
  }
 },
 "nbformat": 4,
 "nbformat_minor": 4
}
